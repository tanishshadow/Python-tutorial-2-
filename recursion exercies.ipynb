{
 "metadata": {
  "language_info": {
   "codemirror_mode": {
    "name": "ipython",
    "version": 3
   },
   "file_extension": ".py",
   "mimetype": "text/x-python",
   "name": "python",
   "nbconvert_exporter": "python",
   "pygments_lexer": "ipython3",
   "version": "3.8.3"
  },
  "orig_nbformat": 4,
  "kernelspec": {
   "name": "python3",
   "display_name": "Python 3.8.3 32-bit"
  },
  "interpreter": {
   "hash": "6fa8c4a0213b3e8e46e64ca221d4ef2f7254b1e53b83d6209b624a99d7aa7db4"
  }
 },
 "nbformat": 4,
 "nbformat_minor": 2,
 "cells": [
  {
   "cell_type": "code",
   "execution_count": 22,
   "metadata": {},
   "outputs": [
    {
     "output_type": "stream",
     "name": "stdout",
     "text": [
      "PO hsinaT\n"
     ]
    }
   ],
   "source": [
    "# program to print a string backward(iteration)\n",
    "string=\"Tanish OP\"\n",
    "# count=\"\"\n",
    "# for i in string[::-1]:\n",
    "#     count=count+i\n",
    "# print(count)\n",
    "lst=[]\n",
    "for i in range(len(string)):\n",
    "    lst.append(string[i])\n",
    "lst=reversed(lst) \n",
    "res=''.join(lst)\n",
    "print(res)\n"
   ]
  },
  {
   "cell_type": "code",
   "execution_count": 52,
   "metadata": {},
   "outputs": [
    {
     "output_type": "stream",
     "name": "stdout",
     "text": [
      "PO hsinaT\n"
     ]
    }
   ],
   "source": [
    "# program to print a string backward(recursion)\n",
    "def str_rev(s):\n",
    "    \"Returns a string in reversed order\"\n",
    "    if len(s)==0:\n",
    "        return s\n",
    "    else:\n",
    "        return str_rev(s[1:])+s[0]\n",
    "\n",
    "s=\"Tanish OP\"\n",
    "print(str_rev(s))"
   ]
  },
  {
   "cell_type": "code",
   "execution_count": 55,
   "metadata": {},
   "outputs": [
    {
     "output_type": "stream",
     "name": "stdout",
     "text": [
      "64\n"
     ]
    }
   ],
   "source": [
    "# calculate a**b\n",
    "def power(a,b):\n",
    "    \"Returns A**b\"\n",
    "    if b==0:\n",
    "        return 1\n",
    "    elif b==1:\n",
    "        return a\n",
    "    else:\n",
    "        return a*(power(a,b-1))\n",
    "\n",
    "\n",
    "print(power(2,6))"
   ]
  },
  {
   "cell_type": "code",
   "execution_count": 60,
   "metadata": {},
   "outputs": [
    {
     "output_type": "stream",
     "name": "stdout",
     "text": [
      "2\n"
     ]
    }
   ],
   "source": [
    "#calculate HCF using recursion\n",
    "def HCF(a,b):\n",
    "    \"Returns HCF of two numbers\"\n",
    "    r=b%a\n",
    "    if r==0:\n",
    "        return a\n",
    "    else:\n",
    "        return HCF(b,r)\n",
    "\n",
    "print(HCF(4,70))"
   ]
  },
  {
   "cell_type": "code",
   "execution_count": 84,
   "metadata": {},
   "outputs": [
    {
     "output_type": "stream",
     "name": "stdout",
     "text": [
      "1 1 2 3 5 8 13 21 34 "
     ]
    }
   ],
   "source": [
    "def fibonacci(n):\n",
    "    \"Returns the fibonacci series upto n th term (1,1,2,3,5,8,13)\"\n",
    "    if n==1:\n",
    "        return 1\n",
    "    elif n==2:\n",
    "        return 1\n",
    "    else:\n",
    "        return fibonacci(n-1)+fibonacci(n-2)\n",
    "\n",
    "# fibonacci(n:=5)\n",
    "for i in range(1,10):\n",
    "    print(fibonacci(i),end=\" \")"
   ]
  },
  {
   "cell_type": "code",
   "execution_count": 89,
   "metadata": {},
   "outputs": [
    {
     "output_type": "stream",
     "name": "stdout",
     "text": [
      "(123)1233-1333\n"
     ]
    }
   ],
   "source": [
    "string=\"xxx-xxx-xxxx\"\n",
    "print(f\"({string[:3]}){string[4:]}\")"
   ]
  },
  {
   "cell_type": "code",
   "execution_count": 88,
   "metadata": {},
   "outputs": [
    {
     "output_type": "stream",
     "name": "stdout",
     "text": [
      "(123)456-7890\n"
     ]
    }
   ],
   "source": [
    "phone = '123-456-7890'\n",
    "formatted = '({0}){1}-{2}'.format(*phone.split('-'))\n",
    "print(formatted)"
   ]
  },
  {
   "cell_type": "code",
   "execution_count": null,
   "metadata": {},
   "outputs": [],
   "source": []
  }
 ]
}